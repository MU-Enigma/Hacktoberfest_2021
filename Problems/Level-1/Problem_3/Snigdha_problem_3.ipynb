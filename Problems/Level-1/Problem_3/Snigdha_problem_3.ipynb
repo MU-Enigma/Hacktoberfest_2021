{
 "cells": [
  {
   "cell_type": "code",
   "execution_count": null,
   "id": "528a7614",
   "metadata": {
    "scrolled": true
   },
   "outputs": [],
   "source": [
    "lst = []\n",
    " \n",
    "N = int(input(\" \"))\n",
    "\n",
    "K = int(input(\" \"))\n",
    "J = int(input(\" \"))\n",
    " \n",
    "for i in range(0, N):\n",
    "    elem = int(input())\n",
    " \n",
    "    lst.append(elem) \n",
    "    \n",
    "avg_diff= sum(lst[:K])/K - sum(lst[N-1:N-J-1:-1])/J \n",
    "     \n",
    "print(avg_diff)"
   ]
  }
 ],
 "metadata": {
  "kernelspec": {
   "display_name": "Python 3",
   "language": "python",
   "name": "python3"
  },
  "language_info": {
   "codemirror_mode": {
    "name": "ipython",
    "version": 3
   },
   "file_extension": ".py",
   "mimetype": "text/x-python",
   "name": "python",
   "nbconvert_exporter": "python",
   "pygments_lexer": "ipython3",
   "version": "3.8.8"
  }
 },
 "nbformat": 4,
 "nbformat_minor": 5
}
